{
 "cells": [
  {
   "cell_type": "code",
   "execution_count": 38,
   "id": "14edf791",
   "metadata": {},
   "outputs": [],
   "source": [
    "import torch\n",
    "import numpy as np\n",
    "import pandas as pd\n",
    "import random\n",
    "import torch.nn as nn\n",
    "import torch.optim as optim\n",
    "from sklearn.ensemble import GradientBoostingClassifier\n",
    "from sklearn.model_selection import train_test_split\n",
    "from sklearn.preprocessing import StandardScaler\n",
    "from sklearn.metrics import accuracy_score"
   ]
  },
  {
   "cell_type": "code",
   "execution_count": 39,
   "id": "4f6c28d3",
   "metadata": {},
   "outputs": [],
   "source": [
    "def fix_random(seed=42):\n",
    "    torch.manual_seed(seed)\n",
    "    np.random.seed(seed)\n",
    "    random.seed(seed)\n",
    "    torch.backends.cudnn.deterministic = True\n",
    "    torch.backends.cudnn.benchmark = False\n",
    "\n",
    "fix_random(42)"
   ]
  },
  {
   "cell_type": "code",
   "execution_count": 40,
   "id": "b4e15180",
   "metadata": {},
   "outputs": [],
   "source": [
    "df = pd.read_csv(\"heart.csv\")"
   ]
  },
  {
   "cell_type": "code",
   "execution_count": 41,
   "id": "b81e4a0b",
   "metadata": {},
   "outputs": [],
   "source": [
    "features = df[['age', 'sex', 'trestbps', 'chol', 'thal', 'cp', 'exang']]\n",
    "labels = df['target']"
   ]
  },
  {
   "cell_type": "code",
   "execution_count": 42,
   "id": "163b6f59",
   "metadata": {},
   "outputs": [],
   "source": [
    "x_train, x_test, y_train, y_test = train_test_split(features, labels, test_size=0.2, random_state=42)"
   ]
  },
  {
   "cell_type": "code",
   "execution_count": 43,
   "id": "1b19dbc9",
   "metadata": {},
   "outputs": [],
   "source": [
    "scaler = StandardScaler()\n",
    "x_train_scaled = scaler.fit_transform(x_train)\n",
    "x_test_scaled = scaler.transform(x_test)"
   ]
  },
  {
   "cell_type": "code",
   "execution_count": 44,
   "id": "a092060f",
   "metadata": {},
   "outputs": [],
   "source": [
    "teacher = GradientBoostingClassifier()\n",
    "teacher.fit(x_train_scaled, y_train)\n",
    "soft_labels = teacher.predict_proba(x_train_scaled)"
   ]
  },
  {
   "cell_type": "code",
   "execution_count": 45,
   "id": "fc819353",
   "metadata": {},
   "outputs": [],
   "source": [
    "class StudentModel(nn.Module):\n",
    "    def __init__(self, input_dim):\n",
    "        super(StudentModel, self).__init__()\n",
    "        self.net = nn.Sequential(\n",
    "            nn.Linear(input_dim, 16),\n",
    "            nn.ReLU(),\n",
    "            nn.Linear(16, 2)\n",
    "        )\n",
    "\n",
    "    def forward(self, x):\n",
    "        return self.net(x)\n",
    "\n",
    "studentmodel = StudentModel(x_train.shape[1])"
   ]
  },
  {
   "cell_type": "code",
   "execution_count": 46,
   "id": "f138cb23",
   "metadata": {},
   "outputs": [],
   "source": [
    "x_tensor = torch.tensor(x_train_scaled, dtype=torch.float32)\n",
    "y_tensor = torch.tensor(y_train.values, dtype=torch.long)\n",
    "soft_tensor = torch.tensor(soft_labels, dtype=torch.float32)\n",
    "\n",
    "criterion_ce = nn.CrossEntropyLoss()\n",
    "criterion_kl = nn.KLDivLoss(reduction=\"batchmean\")\n",
    "optimizer = optim.Adam(studentmodel.parameters(), lr=0.001)"
   ]
  },
  {
   "cell_type": "code",
   "execution_count": 47,
   "id": "bb105058",
   "metadata": {},
   "outputs": [
    {
     "name": "stdout",
     "output_type": "stream",
     "text": [
      "Epoch 0, Loss: 0.5393\n",
      "Epoch 10, Loss: 0.5227\n",
      "Epoch 20, Loss: 0.5073\n",
      "Epoch 30, Loss: 0.4925\n",
      "Epoch 40, Loss: 0.4776\n"
     ]
    }
   ],
   "source": [
    "epochs = 50\n",
    "alpha = 0.5  # blend between hard and soft labels\n",
    "\n",
    "for epoch in range(epochs):\n",
    "    studentmodel.train()\n",
    "    optimizer.zero_grad()\n",
    "\n",
    "    outputs = studentmodel(x_tensor)\n",
    "    softmax_outputs = torch.log_softmax(outputs, dim=1)\n",
    "\n",
    "    loss_soft = criterion_kl(softmax_outputs, soft_tensor)\n",
    "    loss_hard = criterion_ce(outputs, y_tensor)\n",
    "    loss = alpha * loss_hard + (1 - alpha) * loss_soft\n",
    "\n",
    "    loss.backward()\n",
    "    optimizer.step()\n",
    "\n",
    "    if epoch % 10 == 0:\n",
    "        print(f\"Epoch {epoch}, Loss: {loss.item():.4f}\")"
   ]
  },
  {
   "cell_type": "code",
   "execution_count": 48,
   "id": "71a814ea",
   "metadata": {},
   "outputs": [
    {
     "name": "stdout",
     "output_type": "stream",
     "text": [
      "Accuracy on Test Data: 0.6292682926829268\n"
     ]
    }
   ],
   "source": [
    "studentmodel.eval()\n",
    "x_test_tensor = torch.tensor(x_test_scaled, dtype=torch.float32)\n",
    "with torch.no_grad():\n",
    "    test_preds = torch.argmax(studentmodel(x_test_tensor), dim=1)\n",
    "\n",
    "print(\"Accuracy on Test Data:\", accuracy_score(y_test, test_preds))"
   ]
  },
  {
   "cell_type": "code",
   "execution_count": null,
   "id": "6e570ab5",
   "metadata": {},
   "outputs": [
    {
     "name": "stdout",
     "output_type": "stream",
     "text": [
      "❗ High Risk of Heart Attack — Consult a doctor immediately.\n"
     ]
    },
    {
     "name": "stderr",
     "output_type": "stream",
     "text": [
      "c:\\Users\\tharu\\AppData\\Local\\Programs\\Python\\Python312\\Lib\\site-packages\\sklearn\\base.py:493: UserWarning: X does not have valid feature names, but StandardScaler was fitted with feature names\n",
      "  warnings.warn(\n"
     ]
    }
   ],
   "source": [
    "\n",
    "def predict_heart_risk(input_list):\n",
    "    input_np = np.array([input_list])\n",
    "    scaled = scaler.transform(input_np)\n",
    "    tensor = torch.tensor(scaled, dtype=torch.float32)\n",
    "\n",
    "    studentmodel.eval()\n",
    "    with torch.no_grad():\n",
    "        output = studentmodel(tensor)\n",
    "        pred = torch.argmax(output, dim=1).item()\n",
    "\n",
    "    if pred == 1:\n",
    "        print(\"\\u2757 High Risk of Heart Attack — Consult a doctor immediately.\")\n",
    "    else:\n",
    "        print(\"\\u2705 No Significant Risk of Heart Attack — Keep maintaining a healthy lifestyle.\")\n",
    "\n",
    "predict_heart_risk([28, 1, 115, 170, 1, 1, 0])\n"
   ]
  }
 ],
 "metadata": {
  "kernelspec": {
   "display_name": "Python 3",
   "language": "python",
   "name": "python3"
  },
  "language_info": {
   "codemirror_mode": {
    "name": "ipython",
    "version": 3
   },
   "file_extension": ".py",
   "mimetype": "text/x-python",
   "name": "python",
   "nbconvert_exporter": "python",
   "pygments_lexer": "ipython3",
   "version": "3.12.3"
  }
 },
 "nbformat": 4,
 "nbformat_minor": 5
}
